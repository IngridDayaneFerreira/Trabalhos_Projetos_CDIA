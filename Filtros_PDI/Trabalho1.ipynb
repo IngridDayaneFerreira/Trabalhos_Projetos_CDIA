{
 "cells": [
  {
   "cell_type": "markdown",
   "metadata": {},
   "source": [
    "# Trabalho 1 - PDI\n",
    "### Ingrid Dayane da Silva Ferreira (20200154050)"
   ]
  },
  {
   "cell_type": "markdown",
   "metadata": {},
   "source": [
    "Desenvolva, em uma linguagem de programação de sua escolha, um sistema para abrir, \n",
    "exibir, manipular e salvar imagens RGB com 24 bits/pixel (8 bits/componente/pixel). Não \n",
    "use bibliotecas ou funções especiais de processamento de imagens. O sistema deve ter a \n",
    "seguinte funcionalidade:"
   ]
  },
  {
   "cell_type": "markdown",
   "metadata": {},
   "source": [
    "1. Correlação m x n com offset, sobre R, G e B. O offset e o filtro (dimensões e valores \n",
    "da máscara) devem ser definidos em um arquivo (txt) à parte. Realize testes com os \n",
    "filtros Gaussiano 5x5, Sobel horizontal e Sobel vertical, e explique os resultados.\n",
    "Utilize extensão por zeros. Para visualização do Sobel, aplique valor absoluto seguido \n",
    "por expansão de histograma para [0, 255]."
   ]
  },
  {
   "cell_type": "code",
   "execution_count": null,
   "metadata": {},
   "outputs": [],
   "source": []
  },
  {
   "cell_type": "code",
   "execution_count": null,
   "metadata": {},
   "outputs": [],
   "source": []
  },
  {
   "cell_type": "code",
   "execution_count": null,
   "metadata": {},
   "outputs": [],
   "source": []
  },
  {
   "cell_type": "code",
   "execution_count": null,
   "metadata": {},
   "outputs": [],
   "source": []
  },
  {
   "cell_type": "markdown",
   "metadata": {},
   "source": [
    "2. Filtro pontual a seguir, (a) aplicado em RGB, (b) aplicado à banda Y do YIQ, com \n",
    "posterior conversão a RGB.\n",
    "!"
   ]
  }
 ],
 "metadata": {
  "language_info": {
   "name": "python"
  }
 },
 "nbformat": 4,
 "nbformat_minor": 2
}
