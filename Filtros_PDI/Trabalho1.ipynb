{
 "cells": [
  {
   "cell_type": "markdown",
   "metadata": {},
   "source": [
    "# Trabalho 1 - PDI\n",
    "### Ingrid Dayane da Silva Ferreira (20200154050)"
   ]
  },
  {
   "cell_type": "markdown",
   "metadata": {},
   "source": [
    "Desenvolva, em uma linguagem de programação de sua escolha, um sistema para abrir, \n",
    "exibir, manipular e salvar imagens RGB com 24 bits/pixel (8 bits/componente/pixel). Não \n",
    "use bibliotecas ou funções especiais de processamento de imagens. O sistema deve ter a \n",
    "seguinte funcionalidade:"
   ]
  },
  {
   "cell_type": "markdown",
   "metadata": {},
   "source": [
    "1. Correlação m x n com offset, sobre R, G e B. O offset e o filtro (dimensões e valores \n",
    "da máscara) devem ser definidos em um arquivo (txt) à parte. Realize testes com os \n",
    "filtros Gaussiano 5x5, Sobel horizontal e Sobel vertical, e explique os resultados.\n",
    "Utilize extensão por zeros. Para visualização do Sobel, aplique valor absoluto seguido \n",
    "por expansão de histograma para [0, 255]."
   ]
  },
  {
   "cell_type": "code",
   "execution_count": 77,
   "metadata": {},
   "outputs": [],
   "source": [
    "def filter(i, f, nome_resultado):\n",
    "    # importando as bibliotecas necessárias ao processamento\n",
    "    import cv2\n",
    "    import numpy as np\n",
    "    import matplotlib.pyplot as plt\n",
    "\n",
    "            # leitura do txt com as informações do filtro\n",
    "    with open(f, 'r') as f:  # abrindo o txt do filtro\n",
    "        m = int(f.readline()) # linhas\n",
    "        n = int(f.readline()) # colunas\n",
    "        offset = int(f.readline())\n",
    "        filtro = [[0] * n for _ in range(m)] # criando uma matriz para colocar o filtro\n",
    "        linhas = f.readlines()\n",
    "\n",
    "        for j, line in enumerate(linhas): # colocando o filtro na matriz criada\n",
    "            f1 = (line.split())\n",
    "            filtro[j] = f1\n",
    "\n",
    "        for e in range(m): # transformando cada posição do filtro em ponto flutuante\n",
    "            for r in range(n):\n",
    "                filtro[e][r] = float(filtro[e][r])\n",
    "\n",
    "    img = cv2.imread(i) # lendo a imagem\n",
    "    img_m, img_n, _ = img.shape # terceira dimensão = bandas (R,G,B)\n",
    "\n",
    "    img_resultante = np.zeros_like(img) # gerando uma imagem resultante de mesmo tamanho da imagem de entrada\n",
    "\n",
    "    '''\n",
    "    A partir daqui já temos todas as informações necessárias para aplicarmos o filtro à imagem:\n",
    "        - m\n",
    "        - n\n",
    "        - offset\n",
    "        - filtro\n",
    "        - imagem\n",
    "        - altura da imagem (qtd de linhas)\n",
    "        - largura da imagem (qtd de colunas)\n",
    "        - imagem resultante (preenchida com zeros e pronta para receber os cálculos da aplicação do filtro)\n",
    "            A imagem resultante tem o mesmo tamanho da imagem de entrada, pois utilizaremos extensão por zero\n",
    "    '''\n",
    "    # Separando os canais e expandindo o histograma\n",
    "    R = img[:,:,0]\n",
    "    G = img[:,:,1]\n",
    "    B = img[:,:,2]\n",
    "    \n",
    "    for b in [R, G, B]: # Aplicando o filtro em cada canal\n",
    "        maximo = np.max(b)\n",
    "        minimo = np.min(b)\n",
    "        padded_b = np.pad(b, ((m//2, m//2), (n//2, n//2)), mode='constant') # corrigindo o problema das dimensões\n",
    "        for q in range(img_m): # aplicar o filtro em cada posição da imagem\n",
    "            for w in range(img_n):\n",
    "                vizinhanca = padded_b[q:q+m, w:w+n] # recortando a vizinhança para realizar a convolução do filtro (considerando a extensão por zero)\n",
    "                vizinhanca = ((vizinhanca - minimo)/(maximo - minimo))*255 # aplicando a expansão de histograma com foco na vizinhança\n",
    "                pos = np.sum(vizinhanca * filtro) + offset #aplicando o filtro na posição (q,w)\n",
    "                img_resultante[q,w] = np.absolute(pos) # valor absoluto seguido por expansão de histograma para [0, 255]\n",
    "                img_resultante[q][w] = np.clip(img_resultante[q][w],0,255)\n",
    "\n",
    "    imagem_resultante = cv2.imwrite(nome_resultado, img_resultante)\n",
    "\n",
    "    return imagem_resultante"
   ]
  },
  {
   "cell_type": "code",
   "execution_count": 62,
   "metadata": {},
   "outputs": [
    {
     "name": "stdout",
     "output_type": "stream",
     "text": [
      "True\n"
     ]
    }
   ],
   "source": [
    "resultado = filter('Shapes.png','Gaussiano_5x5.txt','Shapes_Gaussiano_5x5.png')\n",
    "print(resultado) # retorna True se salvou com sucesso"
   ]
  },
  {
   "cell_type": "code",
   "execution_count": null,
   "metadata": {},
   "outputs": [
    {
     "name": "stdout",
     "output_type": "stream",
     "text": [
      "True\n"
     ]
    }
   ],
   "source": [
    "resultado = filter('Shapes.png','Sobel_h.txt','Shapes_Sobel_h.png')\n",
    "print(resultado) # retorna True se salvou com sucesso"
   ]
  },
  {
   "cell_type": "code",
   "execution_count": 63,
   "metadata": {},
   "outputs": [
    {
     "name": "stdout",
     "output_type": "stream",
     "text": [
      "True\n"
     ]
    }
   ],
   "source": [
    "resultado = filter('Shapes.png','Sobel_v.txt','Shapes_Sobel_v.png')\n",
    "print(resultado) # retorna True se salvou com sucesso"
   ]
  },
  {
   "cell_type": "code",
   "execution_count": 78,
   "metadata": {},
   "outputs": [
    {
     "name": "stdout",
     "output_type": "stream",
     "text": [
      "True\n"
     ]
    }
   ],
   "source": [
    "resultado = filter('testpat.tif','Gaussiano_5x5.txt','testpat_Gaussiano_5x5.tif')\n",
    "print(resultado) # retorna True se salvou com sucesso"
   ]
  },
  {
   "cell_type": "code",
   "execution_count": 79,
   "metadata": {},
   "outputs": [
    {
     "name": "stdout",
     "output_type": "stream",
     "text": [
      "True\n"
     ]
    }
   ],
   "source": [
    "resultado = filter('testpat.tif','Sobel_h.txt','testpat_Sobel_h.tif')\n",
    "print(resultado) # retorna True se salvou com sucesso"
   ]
  },
  {
   "cell_type": "code",
   "execution_count": null,
   "metadata": {},
   "outputs": [
    {
     "name": "stdout",
     "output_type": "stream",
     "text": [
      "True\n"
     ]
    }
   ],
   "source": [
    "resultado = filter('testpat.tif','Sobel_v.txt','testpat_Sobel_v.tif')\n",
    "print(resultado) # retorna True se salvou com sucesso"
   ]
  },
  {
   "cell_type": "markdown",
   "metadata": {},
   "source": [
    "2. Filtro pontual a seguir \n",
    "\n",
    "![Filtro Pontual](Filtro_Pontual.png)"
   ]
  },
  {
   "cell_type": "markdown",
   "metadata": {},
   "source": [
    "(a) aplicado em RGB"
   ]
  },
  {
   "cell_type": "code",
   "execution_count": 58,
   "metadata": {},
   "outputs": [
    {
     "ename": "NameError",
     "evalue": "name 'ponto' is not defined",
     "output_type": "error",
     "traceback": [
      "\u001b[1;31m---------------------------------------------------------------------------\u001b[0m",
      "\u001b[1;31mNameError\u001b[0m                                 Traceback (most recent call last)",
      "Cell \u001b[1;32mIn[58], line 44\u001b[0m\n\u001b[0;32m     41\u001b[0m G \u001b[38;5;241m=\u001b[39m img[:,:,\u001b[38;5;241m1\u001b[39m]\n\u001b[0;32m     42\u001b[0m B \u001b[38;5;241m=\u001b[39m img[:,:,\u001b[38;5;241m2\u001b[39m]\n\u001b[1;32m---> 44\u001b[0m expansao \u001b[38;5;241m=\u001b[39m ((\u001b[43mponto\u001b[49m \u001b[38;5;241m-\u001b[39m \u001b[38;5;28mmin\u001b[39m(b))\u001b[38;5;241m/\u001b[39m(\u001b[38;5;28mmax\u001b[39m(b) \u001b[38;5;241m-\u001b[39m \u001b[38;5;28mmin\u001b[39m(b)))\u001b[38;5;241m*\u001b[39m\u001b[38;5;241m255\u001b[39m\n\u001b[0;32m     46\u001b[0m \u001b[38;5;28;01mfor\u001b[39;00m b \u001b[38;5;129;01min\u001b[39;00m [R, G, B]: \u001b[38;5;66;03m# Aplicando o filtro em cada canal\u001b[39;00m\n\u001b[0;32m     47\u001b[0m     padded_b \u001b[38;5;241m=\u001b[39m np\u001b[38;5;241m.\u001b[39mpad(b, ((m\u001b[38;5;241m/\u001b[39m\u001b[38;5;241m/\u001b[39m\u001b[38;5;241m2\u001b[39m, m\u001b[38;5;241m/\u001b[39m\u001b[38;5;241m/\u001b[39m\u001b[38;5;241m2\u001b[39m), (n\u001b[38;5;241m/\u001b[39m\u001b[38;5;241m/\u001b[39m\u001b[38;5;241m2\u001b[39m, n\u001b[38;5;241m/\u001b[39m\u001b[38;5;241m/\u001b[39m\u001b[38;5;241m2\u001b[39m)), mode\u001b[38;5;241m=\u001b[39m\u001b[38;5;124m'\u001b[39m\u001b[38;5;124mconstant\u001b[39m\u001b[38;5;124m'\u001b[39m) \u001b[38;5;66;03m# corrigindo o problema das dimensões\u001b[39;00m\n",
      "\u001b[1;31mNameError\u001b[0m: name 'ponto' is not defined"
     ]
    }
   ],
   "source": [
    "import cv2\n",
    "import numpy as np\n",
    "import matplotlib.pyplot as plt\n",
    "\n",
    "f = 'Sobel_h.txt'\n",
    "i = 'testpat.tif'\n",
    "with open(f, 'r') as f:  # abrindo o txt do filtro\n",
    "    m = int(f.readline()) # linhas\n",
    "    n = int(f.readline()) # colunas\n",
    "    offset = int(f.readline())\n",
    "    filtro = [[0] * n for _ in range(m)] # criando uma matriz para colocar o filtro\n",
    "    linhas = f.readlines()\n",
    "\n",
    "    for j, line in enumerate(linhas): # colocando o filtro na matriz criada\n",
    "        f1 = (line.split())\n",
    "        filtro[j] = f1\n",
    "\n",
    "    for e in range(m): # transformando cada posição do filtro em ponto flutuante\n",
    "        for r in range(n):\n",
    "            filtro[e][r] = float(filtro[e][r])\n",
    "\n",
    "img = cv2.imread(i) # lendo a imagem\n",
    "img_m, img_n, _ = img.shape # terceira dimensão = bandas (R,G,B)\n",
    "\n",
    "img_resultante = np.zeros_like(img) # gerando uma imagem resultante de mesmo tamanho da imagem de entrada\n",
    "\n",
    "'''\n",
    "A partir daqui já temos todas as informações necessárias para aplicarmos o filtro à imagem:\n",
    "    - m\n",
    "    - n\n",
    "    - offset\n",
    "    - filtro\n",
    "    - imagem\n",
    "    - altura da imagem (qtd de linhas)\n",
    "    - largura da imagem (qtd de colunas)\n",
    "    - imagem resultante (preenchida com zeros e pronta para receber os cálculos da aplicação do filtro)\n",
    "        A imagem resultante tem o mesmo tamanho da imagem de entrada, pois utilizaremos extensão por zero\n",
    "'''\n",
    "# Separando os canais\n",
    "R = img[:,:,0]\n",
    "G = img[:,:,1]\n",
    "B = img[:,:,2]\n",
    "\n",
    "expansao = ((ponto_na_imagem - min(valor_no_canal))/(max(valor_no_canal) - min(valor_no_canal)))*255\n",
    "\n",
    "for b in [R, G, B]: # Aplicando o filtro em cada canal\n",
    "    padded_b = np.pad(b, ((m//2, m//2), (n//2, n//2)), mode='constant') # corrigindo o problema das dimensões\n",
    "    for q in range(img_m): # aplicar o filtro em cada posição da imagem\n",
    "        for w in range(img_n):\n",
    "            vizinhanca = padded_b[q:q+m, w:w+n] # recortando a vizinhança para realizar a convolução do filtro (considerando a extensão por zero)\n",
    "            pos = np.sum(vizinhanca * filtro) + offset #aplicando o filtro na posição (q,w)\n",
    "            img_resultante[q,w] = np.absolute(pos) # valor absoluto seguido por expansão de histograma para [0, 255]\n",
    "            img_resultante[q][w] = np.clip(img_resultante[q][w],0,255)\n"
   ]
  },
  {
   "cell_type": "markdown",
   "metadata": {},
   "source": []
  },
  {
   "cell_type": "markdown",
   "metadata": {},
   "source": []
  },
  {
   "cell_type": "code",
   "execution_count": 57,
   "metadata": {},
   "outputs": [
    {
     "name": "stdout",
     "output_type": "stream",
     "text": [
      "[[149 150 150 ... 150 149 150]\n",
      " [150 149 149 ... 149 149 149]\n",
      " [150 150 149 ... 150 149 149]\n",
      " ...\n",
      " [255 255 255 ... 255 255 255]\n",
      " [255 255 255 ... 255 255 255]\n",
      " [255 255 255 ... 255 255 255]]\n"
     ]
    }
   ],
   "source": [
    "print(R)\n",
    "# print(G)\n",
    "# print(B)\n",
    "# print(img)\n",
    "# print(img_resultante[q,w,0])"
   ]
  },
  {
   "cell_type": "markdown",
   "metadata": {},
   "source": [
    "(b) aplicado à banda Y do YIQ, com posterior conversão a RGB"
   ]
  },
  {
   "cell_type": "code",
   "execution_count": null,
   "metadata": {},
   "outputs": [],
   "source": []
  },
  {
   "cell_type": "code",
   "execution_count": null,
   "metadata": {},
   "outputs": [],
   "source": []
  }
 ],
 "metadata": {
  "kernelspec": {
   "display_name": "Python 3",
   "language": "python",
   "name": "python3"
  },
  "language_info": {
   "codemirror_mode": {
    "name": "ipython",
    "version": 3
   },
   "file_extension": ".py",
   "mimetype": "text/x-python",
   "name": "python",
   "nbconvert_exporter": "python",
   "pygments_lexer": "ipython3",
   "version": "3.12.5"
  }
 },
 "nbformat": 4,
 "nbformat_minor": 2
}
