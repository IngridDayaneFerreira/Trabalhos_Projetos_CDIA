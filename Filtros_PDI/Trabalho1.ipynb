{
 "cells": [
  {
   "cell_type": "markdown",
   "metadata": {},
   "source": [
    "# Trabalho 1 - PDI\n",
    "### Ingrid Dayane da Silva Ferreira (20200154050)"
   ]
  },
  {
   "cell_type": "markdown",
   "metadata": {},
   "source": [
    "Desenvolva, em uma linguagem de programação de sua escolha, um sistema para abrir, \n",
    "exibir, manipular e salvar imagens RGB com 24 bits/pixel (8 bits/componente/pixel). Não \n",
    "use bibliotecas ou funções especiais de processamento de imagens. O sistema deve ter a \n",
    "seguinte funcionalidade:"
   ]
  },
  {
   "cell_type": "markdown",
   "metadata": {},
   "source": [
    "1. Correlação m x n com offset, sobre R, G e B. O offset e o filtro (dimensões e valores \n",
    "da máscara) devem ser definidos em um arquivo (txt) à parte. Realize testes com os \n",
    "filtros Gaussiano 5x5, Sobel horizontal e Sobel vertical, e explique os resultados.\n",
    "Utilize extensão por zeros. Para visualização do Sobel, aplique valor absoluto seguido \n",
    "por expansão de histograma para [0, 255]."
   ]
  },
  {
   "cell_type": "code",
   "execution_count": 146,
   "metadata": {},
   "outputs": [
    {
     "name": "stdout",
     "output_type": "stream",
     "text": [
      "True\n"
     ]
    }
   ],
   "source": [
    "def filter(i, f, nome_resultado):\n",
    "    # importando as bibliotecas necessárias ao processamento\n",
    "    import cv2\n",
    "    import numpy as np\n",
    "    import matplotlib.pyplot as plt\n",
    "\n",
    "            # leitura do txt com as informações do filtro\n",
    "    with open(f, 'r') as f:  # abrindo o txt do filtro\n",
    "        m = int(f.readline()) # linhas\n",
    "        n = int(f.readline()) # colunas\n",
    "        offset = int(f.readline())\n",
    "        filtro = [[0] * n for _ in range(m)] # criando uma matriz para colocar o filtro\n",
    "        linhas = f.readlines()\n",
    "\n",
    "        for j, line in enumerate(linhas): # colocando o filtro na matriz criada\n",
    "            f1 = (line.split())\n",
    "            filtro[j] = f1\n",
    "\n",
    "        for e in range(m): # transformando cada posição do filtro em ponto flutuante\n",
    "            for r in range(n):\n",
    "                filtro[e][r] = float(filtro[e][r])\n",
    "\n",
    "    img = cv2.imread(i) # lendo a imagem\n",
    "    img_m, img_n, _ = img.shape # terceira dimensão = bandas (R,G,B)\n",
    "\n",
    "    img_resultante = np.zeros_like(img) # gerando uma imagem resultante de mesmo tamanho da imagem de entrada\n",
    "\n",
    "    '''\n",
    "    A partir daqui já temos todas as informações necessárias para aplicarmos o filtro à imagem:\n",
    "        - m\n",
    "        - n\n",
    "        - offset\n",
    "        - filtro\n",
    "        - imagem\n",
    "        - altura da imagem (qtd de linhas)\n",
    "        - largura da imagem (qtd de colunas)\n",
    "        - imagem resultante (preenchida com zeros e pronta para receber os cálculos da aplicação do filtro)\n",
    "            A imagem resultante tem o mesmo tamanho da imagem de entrada, pois utilizaremos extensão por zero\n",
    "    '''\n",
    "    # Separando os canais\n",
    "    R = img[:,:,0]\n",
    "    G = img[:,:,1]\n",
    "    B = img[:,:,2]\n",
    "\n",
    "    for b in [R, G, B]: # Aplicando o filtro em cada canal\n",
    "        padded_b = np.pad(b, ((m//2, m//2), (n//2, n//2)), mode='constant')\n",
    "        for q in range(img_m): # aplicar o filtro em cada posição da imagem\n",
    "            for w in range(img_n):\n",
    "                vizinhanca = padded_b[q:q+m, w:w+n] # recortando a vizinhança para realizar a convolução do filtro (considerando a extensão por zero)\n",
    "                pos = np.sum(vizinhanca * filtro) + offset #aplicando o filtro na posição (q,w)\n",
    "                img_resultante[q,w] = np.absolute(np.clip(pos,-255,255)) # coloca o valor na posição da imagem resultante e limira entre 0 e 255\n",
    "\n",
    "    imagem_resultante = cv2.imwrite(nome_resultado, img_resultante)\n",
    "\n",
    "    return imagem_resultante\n",
    "\n",
    "resultado = filter('testpat.tif','Sobel_h.txt','Resultado.tif')\n",
    "print(resultado) # True se salvou com sucesso"
   ]
  },
  {
   "cell_type": "markdown",
   "metadata": {},
   "source": [
    "2. Filtro pontual a seguir, (a) aplicado em RGB, (b) aplicado à banda Y do YIQ, com \n",
    "posterior conversão a RGB.\n",
    "![Filtro Pontual]('Filtro_Pontual.png')"
   ]
  },
  {
   "cell_type": "code",
   "execution_count": null,
   "metadata": {},
   "outputs": [],
   "source": []
  }
 ],
 "metadata": {
  "kernelspec": {
   "display_name": "Python 3",
   "language": "python",
   "name": "python3"
  },
  "language_info": {
   "codemirror_mode": {
    "name": "ipython",
    "version": 3
   },
   "file_extension": ".py",
   "mimetype": "text/x-python",
   "name": "python",
   "nbconvert_exporter": "python",
   "pygments_lexer": "ipython3",
   "version": "3.12.5"
  }
 },
 "nbformat": 4,
 "nbformat_minor": 2
}
